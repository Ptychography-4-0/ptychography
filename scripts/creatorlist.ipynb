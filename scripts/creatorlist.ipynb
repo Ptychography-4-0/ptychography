{
 "cells": [
  {
   "cell_type": "code",
   "execution_count": 1,
   "metadata": {},
   "outputs": [],
   "source": [
    "import json\n",
    "from IPython.core.display import display, HTML"
   ]
  },
  {
   "cell_type": "code",
   "execution_count": 2,
   "metadata": {},
   "outputs": [],
   "source": [
    "creators_file = '../packaging/creators.json'\n",
    "with open(creators_file, 'r', encoding='utf-8') as f:\n",
    "    creators = json.load(f)"
   ]
  },
  {
   "cell_type": "code",
   "execution_count": 3,
   "metadata": {},
   "outputs": [],
   "source": [
    "affiliations = []\n",
    "authordescs = []\n",
    "\n",
    "for entry in creators:\n",
    "    try:\n",
    "        affiliation = entry['affiliation']\n",
    "        if affiliation not in affiliations:\n",
    "            affiliations.append(affiliation)\n",
    "        index = affiliations.index(affiliation)\n",
    "    except KeyError:\n",
    "        index = -1\n",
    "    authordescs.append((entry['displayname'], index))\n"
   ]
  },
  {
   "cell_type": "code",
   "execution_count": 4,
   "metadata": {},
   "outputs": [
    {
     "output_type": "display_data",
     "data": {
      "text/plain": "<IPython.core.display.HTML object>",
      "text/html": "<p>Dieter Weber<sup>1</sup>, Anastasiia Lesnichaia<sup>2</sup>, Achim Strauch<sup>2</sup>, Alexander Clausen<sup>1</sup>, Arya Bangun <sup>1</sup>, Oleh Melnyk<sup>3</sup>, Heide Meissner<sup>4</sup>, Simeon Ehrig<sup>4</sup>, Murali Sukumaran<sup>5</sup>, Markus Wollgarten<sup>6</sup>, Wolfgang zu Castell<sup>5</sup>, Knut Müller-Caspary<sup>1</sup></p><p><sup>1</sup>Jülich Research Centre<br/><sup>2</sup>FZ Jülich<br/><sup>3</sup>HZM, TU Munich<br/><sup>4</sup>HZDR<br/><sup>5</sup>HZM<br/><sup>6</sup>HZB</p>"
     },
     "metadata": {}
    }
   ],
   "source": [
    "authorstrings = []\n",
    "affiliationstrings = []\n",
    "\n",
    "for a in authordescs:\n",
    "    authorstring = a[0]\n",
    "    if a[1] >= 0:\n",
    "        authorstring = f'{authorstring}<sup>{a[1] + 1}</sup>'\n",
    "    authorstrings.append(authorstring)\n",
    "\n",
    "for index, affiliation in enumerate(affiliations):\n",
    "    affiliationstrings.append(f'<sup>{index + 1}</sup>{affiliation}')\n",
    "\n",
    "display(HTML(f'<p>{\", \".join(authorstrings)}</p><p>{\"<br/>\".join(affiliationstrings)}</p>'))"
   ]
  },
  {
   "cell_type": "code",
   "execution_count": null,
   "metadata": {},
   "outputs": [],
   "source": []
  }
 ],
 "metadata": {
  "kernelspec": {
   "name": "python3",
   "display_name": "Python 3.7.9 64-bit ('ptycho37': conda)",
   "metadata": {
    "interpreter": {
     "hash": "a6b1dee13a3b9c0ddd633132deac8ae49f717980d44e6232015f76a401344f31"
    }
   }
  },
  "language_info": {
   "codemirror_mode": {
    "name": "ipython",
    "version": 3
   },
   "file_extension": ".py",
   "mimetype": "text/x-python",
   "name": "python",
   "nbconvert_exporter": "python",
   "pygments_lexer": "ipython3",
   "version": "3.7.9-final"
  }
 },
 "nbformat": 4,
 "nbformat_minor": 2
}
