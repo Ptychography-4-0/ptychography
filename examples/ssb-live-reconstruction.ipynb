{
 "cells": [
  {
   "cell_type": "markdown",
   "id": "restricted-manitoba",
   "metadata": {},
   "source": [
    "## Run Single Side Band (SSB) ptychography on Merlin live streams\n",
    "\n",
    "This example uses https://github.com/LiberTEM/LiberTEM-live for live processing. See the documentation and examples there for more information and details.\n",
    "\n",
    "If you want to use this with the simulated data source, LiberTEM-live includes a utility to emulate a Merlin detector by replaying an MIB dataset. To use it, run something like this in the background:\n",
    "\n",
    "`libertem-live-mib-sim ~/Data/default.hdr --cached=MEM --wait-trigger`\n",
    "\n",
    "The `--wait-trigger` option is important for this notebook to function correctly since that allows to drain the data socket before an acquisition like it is necessary for a real-world Merlin detector.\n",
    "\n",
    "* Make sure to adjust the `SCAN_SIZE` below to match the scan of the data source!\n",
    "* This notebook requires the `bqplot` extra of LiberTEM: `pip install libertem[bqplot]`"
   ]
  },
  {
   "cell_type": "code",
   "execution_count": 1,
   "id": "solar-wales",
   "metadata": {},
   "outputs": [],
   "source": [
    "# set this to the host/port where the merlin data server is listening:\n",
    "MERLIN_DATA_SOCKET = ('127.0.0.1', 6342)\n",
    "MERLIN_CONTROL_SOCKET = ('127.0.0.1', 6341)\n",
    "SCAN_SIZE = (128, 128)"
   ]
  },
  {
   "cell_type": "code",
   "execution_count": 2,
   "id": "defined-sheriff",
   "metadata": {},
   "outputs": [],
   "source": [
    "import concurrent.futures"
   ]
  },
  {
   "cell_type": "code",
   "execution_count": 3,
   "id": "sexual-decrease",
   "metadata": {},
   "outputs": [],
   "source": [
    "import time\n",
    "import logging\n",
    "\n",
    "import numpy as np\n",
    "import ipywidgets\n",
    "from empyre.vis.colors import ColormapCubehelix"
   ]
  },
  {
   "cell_type": "code",
   "execution_count": 4,
   "id": "medium-interval",
   "metadata": {},
   "outputs": [],
   "source": [
    "logging.basicConfig(level=logging.INFO)"
   ]
  },
  {
   "cell_type": "code",
   "execution_count": 5,
   "id": "allied-identifier",
   "metadata": {},
   "outputs": [],
   "source": [
    "from libertem.corrections.coordinates import flip_y, rotate_deg, identity\n",
    "from libertem.analysis import com as com_analysis\n",
    "from libertem.udf.masks import ApplyMasksUDF\n",
    "from libertem.common.container import MaskContainer\n",
    "from libertem.viz.bqp import BQLive2DPlot"
   ]
  },
  {
   "cell_type": "code",
   "execution_count": 6,
   "id": "present-album",
   "metadata": {},
   "outputs": [],
   "source": [
    "from libertem_live.api import LiveContext\n",
    "from libertem_live.detectors.merlin import MerlinControl"
   ]
  },
  {
   "cell_type": "code",
   "execution_count": 7,
   "id": "smoking-incident",
   "metadata": {},
   "outputs": [],
   "source": [
    "from ptychography40.reconstruction.ssb import SSB_UDF, generate_masks\n",
    "from ptychography40.reconstruction.common import wavelength, get_shifted"
   ]
  },
  {
   "cell_type": "code",
   "execution_count": 8,
   "id": "representative-institution",
   "metadata": {},
   "outputs": [],
   "source": [
    "ctx = LiveContext()"
   ]
  },
  {
   "cell_type": "markdown",
   "id": "excess-restoration",
   "metadata": {},
   "source": [
    "### Camera setup"
   ]
  },
  {
   "cell_type": "code",
   "execution_count": 9,
   "id": "theoretical-decrease",
   "metadata": {},
   "outputs": [],
   "source": [
    "def merlin_setup(c: MerlinControl, dwell_time=1e-3, depth=6, save_path=None):\n",
    "    print(\"Setting Merlin acquisition parameters\")\n",
    "    # Here go commands to control the camera and the rest of the setup\n",
    "    # to perform an acquisition.\n",
    "\n",
    "    # The Merlin simulator currently accepts all kinds of commands\n",
    "    # and doesn't respond like a real Merlin detector.\n",
    "    c.set('CONTINUOUSRW', 1)\n",
    "    c.set('ACQUISITIONTIME' , dwell_time * 1e3)  # Time in miliseconds\n",
    "    c.set('COUNTERDEPTH', depth)\n",
    "    \n",
    "    # Soft trigger for testing\n",
    "    # For a real STEM acquisition the trigger setup has to be adapted for the given instrument.\n",
    "    # See the MerlinEM User Manual for more details on trigger setup\n",
    "    c.set('TRIGGERSTART', 5)\n",
    "    \n",
    "    c.set('RUNHEADLESS', 1)\n",
    "    c.set('FILEFORMAT', 2)  # 0 binary, 2 raw binary\n",
    "\n",
    "    if save_path is not None:\n",
    "        c.set('IMAGESPERFILE', 256)\n",
    "        c.set('FILEENABLE', 1)\n",
    "        c.set('USETIMESTAMPING', 0)  # raw format with timestamping is buggy, we need to do it ourselves\n",
    "        c.set('FILEFORMAT', 2)  # raw format, less overhead?\n",
    "        c.set('FILEDIRECTORY', save_path)\n",
    "    else:\n",
    "        c.set('FILEENABLE', 0)\n",
    "\n",
    "    print(\"Finished Merlin setup.\")\n",
    "        \n",
    "def microscope_setup(dwell_time=1e-3):\n",
    "    # Here go instructions to set dwell time and\n",
    "    # other scan parameters\n",
    "    # microscope.set_dwell_time(dwell_time)\n",
    "    pass\n",
    "\n",
    "def arm(c: MerlinControl):\n",
    "    print(\"Arming Merlin...\")\n",
    "    c.cmd('STARTACQUISITION')\n",
    "    print(\"Merlin ready for trigger.\")\n",
    "    \n",
    "\n",
    "def set_nav(c: MerlinControl, aq):\n",
    "    height, width = aq.shape.nav\n",
    "    print(\"Setting resolution...\")\n",
    "    c.set('NUMFRAMESTOACQUIRE', height * width)\n",
    "    # Only one trigger for the whole scan with SOFTTRIGGER\n",
    "    # This has to be adapted to the real trigger setup.\n",
    "    # Set to `width` for line trigger and to `1` for pixel trigger.\n",
    "    c.set('NUMFRAMESPERTRIGGER', height * width)\n",
    "    \n",
    "    # microscope.configure_scan(shape=aq.shape.nav)"
   ]
  },
  {
   "cell_type": "markdown",
   "id": "moved-detection",
   "metadata": {},
   "source": [
    "### Trigger function"
   ]
  },
  {
   "cell_type": "code",
   "execution_count": 10,
   "id": "premier-savings",
   "metadata": {},
   "outputs": [],
   "source": [
    "class AcquisitionState:\n",
    "    def __init__(self):\n",
    "        self.trigger_result = None\n",
    "\n",
    "    def set_trigger_result(self, result):\n",
    "        self.trigger_result = result"
   ]
  },
  {
   "cell_type": "code",
   "execution_count": 11,
   "id": "relevant-setup",
   "metadata": {},
   "outputs": [],
   "source": [
    "acquisition_state = AcquisitionState()\n",
    "pool = concurrent.futures.ThreadPoolExecutor(1)"
   ]
  },
  {
   "cell_type": "code",
   "execution_count": 12,
   "id": "superior-subject",
   "metadata": {},
   "outputs": [],
   "source": [
    "def trigger(aq):\n",
    "    print(\"Triggering!\")\n",
    "    # microscope.start_scanning()\n",
    "\n",
    "    time.sleep(1)\n",
    "    height, width = aq.shape.nav\n",
    "    \n",
    "    # Real-world example: Function call to trigger the scan engine\n",
    "    # that triggers the detector with a hardware trigger to match the scan of the beam.\n",
    "    # This function is blocking until the scan is complete.\n",
    "    # do_scan = lambda: ceos.call.acquireScan(width=width, height=height+1, imageName=\"test\")\n",
    "    \n",
    "    # Testing: Use soft trigger\n",
    "    # The emulator can trigger on the 'SOFTTRIGGER' command like the Merlin detector.\n",
    "    def do_scan():\n",
    "        '''\n",
    "        Emulated blocking scan function using the Merlin simulator.\n",
    "        \n",
    "        This function doesn't actually block, but it could!\n",
    "        '''\n",
    "        print(\"do_scan()\")\n",
    "        with c:\n",
    "            c.cmd('SOFTTRIGGER')\n",
    "            \n",
    "    # The real-world scan function might be blocking. We run it in a thread pool here\n",
    "    # so that `trigger()` returns and the acquisition can start.\n",
    "    fut = pool.submit(do_scan)\n",
    "    acquisition_state.set_trigger_result(fut)"
   ]
  },
  {
   "cell_type": "code",
   "execution_count": 13,
   "id": "liquid-breakfast",
   "metadata": {},
   "outputs": [],
   "source": [
    "aq = ctx.prepare_acquisition(\n",
    "    'merlin',\n",
    "    trigger=trigger,\n",
    "    scan_size=SCAN_SIZE,\n",
    "    host=MERLIN_DATA_SOCKET[0],\n",
    "    port=MERLIN_DATA_SOCKET[1],\n",
    "    frames_per_partition=800,\n",
    "    pool_size=2\n",
    ")"
   ]
  },
  {
   "cell_type": "markdown",
   "id": "anonymous-costs",
   "metadata": {},
   "source": [
    "### SSB setup\n",
    "\n",
    "See also https://ptychography-4-0.github.io/ptychography/algorithms/ssb.html for a more complete example!"
   ]
  },
  {
   "cell_type": "code",
   "execution_count": 14,
   "id": "modern-anniversary",
   "metadata": {},
   "outputs": [],
   "source": [
    "ds_shape_sig, ds_shape_nav = aq.shape.sig, aq.shape.nav\n",
    "\n",
    "# Acceleration voltage in keV\n",
    "U = 300\n",
    "rec_params = {\n",
    "    \"dtype\": np.float32,\n",
    "    \"lamb\": wavelength(U),\n",
    "    \"dpix\": 12.7e-12,\n",
    "    \"semiconv\": 22.1346e-3,  # 2020-05-18\n",
    "    \"semiconv_pix\": 31,  # 2020-05-18\n",
    "    # applied right to left\n",
    "    \"transformation\": rotate_deg(88) @ flip_y(),\n",
    "    \"cx\": 123,\n",
    "    \"cy\": 126,\n",
    "    \"cutoff\": 16,  # number of pixels: trotters smaller than this will be removed\n",
    "}\n",
    "cutoff_freq = np.float32('inf')\n",
    "\n",
    "mask_params = {\n",
    "    # Shape of the reconstructed area\n",
    "    'reconstruct_shape': tuple(aq.shape.nav),\n",
    "    # Shape of a detector frame\n",
    "    'mask_shape': tuple(aq.shape.sig),\n",
    "    # Use the faster shifting method to generate trotters\n",
    "    'method': 'shift',\n",
    "}"
   ]
  },
  {
   "cell_type": "code",
   "execution_count": 15,
   "id": "mental-tyler",
   "metadata": {},
   "outputs": [
    {
     "name": "stdout",
     "output_type": "stream",
     "text": [
      "Wall time: 9.63 s\n"
     ]
    }
   ],
   "source": [
    "%%time\n",
    "trotters = generate_masks(**rec_params, **mask_params)"
   ]
  },
  {
   "cell_type": "code",
   "execution_count": 16,
   "id": "immune-calculator",
   "metadata": {},
   "outputs": [
    {
     "name": "stderr",
     "output_type": "stream",
     "text": [
      "WARNING:libertem.common.container:Mask factory size 72596502 larger than warning limit 1048576, may be inefficient\n"
     ]
    }
   ],
   "source": [
    "mask_container = MaskContainer(\n",
    "    mask_factories=lambda: trotters, dtype=trotters.dtype, count=trotters.shape[0]\n",
    ")"
   ]
  },
  {
   "cell_type": "code",
   "execution_count": 17,
   "id": "prostate-theology",
   "metadata": {},
   "outputs": [],
   "source": [
    "ssb_udf = SSB_UDF(**rec_params, mask_container=mask_container)"
   ]
  },
  {
   "cell_type": "code",
   "execution_count": 18,
   "id": "instructional-worry",
   "metadata": {},
   "outputs": [],
   "source": [
    "# Create the plots for the SSB result\n",
    "p0 = BQLive2DPlot(aq, ssb_udf, channel=\"phase\")\n",
    "p1 = BQLive2DPlot(aq, ssb_udf, channel=\"amplitude\")"
   ]
  },
  {
   "cell_type": "markdown",
   "id": "accomplished-shirt",
   "metadata": {},
   "source": [
    "## COM setup\n",
    "\n",
    "This example uses [advanced live plotting features of LiberTEM](https://libertem.github.io/LiberTEM/udf/basic.html#live-plotting) to create a live plot of the data analysis that the [COM Analysis](https://libertem.github.io/LiberTEM/reference/api.html#libertem.api.Context.create_com_analysis) performs."
   ]
  },
  {
   "cell_type": "code",
   "execution_count": 19,
   "id": "ruled-retreat",
   "metadata": {},
   "outputs": [],
   "source": [
    "# Masks are sum, y gradient, x gradient\n",
    "masks = com_analysis.com_masks_factory(\n",
    "    detector_y=aq.shape.sig[0],\n",
    "    detector_x=aq.shape.sig[1],\n",
    "    cx=rec_params[\"cx\"],\n",
    "    cy=rec_params[\"cy\"],\n",
    "    r=rec_params[\"semiconv_pix\"] + 30,\n",
    ")\n",
    "\n",
    "com_udf = ApplyMasksUDF(masks)    \n",
    "\n",
    "def center_shifts(udf_result):\n",
    "    '''\n",
    "    Derive center of mass results from the UDF results\n",
    "    and apply coordinate correction.\n",
    "    '''\n",
    "    y_centers_raw, x_centers_raw = com_analysis.center_shifts(\n",
    "        img_sum=udf_result['intensity'].data[..., 0],\n",
    "        img_y=udf_result['intensity'].data[..., 1],\n",
    "        img_x=udf_result['intensity'].data[..., 2],\n",
    "        ref_y=rec_params[\"cy\"],\n",
    "        ref_x=rec_params[\"cx\"],\n",
    "    )\n",
    "    shape = y_centers_raw.shape\n",
    "    y_centers, x_centers = rec_params['transformation'] @ (y_centers_raw.reshape(-1), x_centers_raw.reshape(-1))\n",
    "\n",
    "    y_centers = y_centers.reshape(shape)\n",
    "    x_centers = x_centers.reshape(shape)\n",
    "    return (y_centers, x_centers)\n",
    "    \n",
    "\n",
    "def field(udf_result, damage):\n",
    "    ch = ColormapCubehelix(start=1, rot=1, minLight=0.5, maxLight=0.5, sat=2)\n",
    "    shifts = center_shifts(udf_result)\n",
    "    # damage = True because of https://github.com/LiberTEM/LiberTEM/issues/1052\n",
    "    return (ch.rgb_from_vector((shifts[0], shifts[1], 0)), True)\n",
    "\n",
    "def magnitude(udf_result, damage):\n",
    "    return (com_analysis.magnitude(*center_shifts(udf_result)), damage)\n",
    "\n",
    "def divergence(udf_result, damage):\n",
    "    return (com_analysis.divergence(*center_shifts(udf_result)), damage)\n",
    "\n",
    "def curl(udf_result, damage):\n",
    "    return (com_analysis.curl_2d(*center_shifts(udf_result)), damage)\n",
    "\n",
    "def y(udf_result, damage):\n",
    "    return (center_shifts(udf_result)[0], damage)\n",
    "\n",
    "def x(udf_result, damage):\n",
    "    return (center_shifts(udf_result)[1], damage)\n",
    "\n",
    "com_plots = []\n",
    "\n",
    "for f in field, magnitude, divergence, curl, y, x:\n",
    "    p = BQLive2DPlot(\n",
    "        dataset=aq,\n",
    "        udf=com_udf,\n",
    "        channel=f,\n",
    "    )\n",
    "    com_plots.append(p)"
   ]
  },
  {
   "cell_type": "markdown",
   "id": "satellite-berlin",
   "metadata": {},
   "source": [
    "### Plot setup for gridded display"
   ]
  },
  {
   "cell_type": "code",
   "execution_count": 20,
   "id": "internal-graduate",
   "metadata": {},
   "outputs": [],
   "source": [
    "plots = [p0, p1] + com_plots"
   ]
  },
  {
   "cell_type": "code",
   "execution_count": 21,
   "id": "dried-lawyer",
   "metadata": {},
   "outputs": [],
   "source": [
    "# NBVAL_IGNORE_OUTPUT\n",
    "# (output is ignored in nbval run because it somehow doesn't play nice with bqplot)\n",
    "\n",
    "outputs = []\n",
    "\n",
    "for p in plots:\n",
    "    # Capture the plots to display them in a grid later\n",
    "    output = ipywidgets.Output()\n",
    "    with output:\n",
    "        p.display()\n",
    "        # Some plot-specific tweaks for grid display\n",
    "        if isinstance(p, BQLive2DPlot):\n",
    "            p.figure.fig_margin={'top': 50, 'bottom': 0, 'left': 25, 'right': 25}\n",
    "            p.figure.layout.width = '400px'\n",
    "            p.figure.layout.height = '400px'\n",
    "        elif isinstance(p, MPLLive2DPlot):\n",
    "            p.fig.tight_layout()\n",
    "            p.fig.set_size_inches((3, 3))\n",
    "            p.fig.canvas.toolbar_position = 'bottom'\n",
    "    outputs.append(output)"
   ]
  },
  {
   "cell_type": "code",
   "execution_count": 22,
   "id": "cleared-trailer",
   "metadata": {},
   "outputs": [
    {
     "data": {
      "application/vnd.jupyter.widget-view+json": {
       "model_id": "5c8bddb4fed3453eb99649c4ab5f7948",
       "version_major": 2,
       "version_minor": 0
      },
      "text/plain": [
       "VBox(children=(HBox(children=(Output(), Output())), HBox(children=(Output(), Output())), HBox(children=(Output…"
      ]
     },
     "metadata": {},
     "output_type": "display_data"
    }
   ],
   "source": [
    "ipywidgets.VBox([\n",
    "    ipywidgets.HBox(outputs[0:2]),\n",
    "    ipywidgets.HBox(outputs[2:4]),\n",
    "    ipywidgets.HBox(outputs[4:6]),\n",
    "    ipywidgets.HBox(outputs[6:8]),\n",
    "])"
   ]
  },
  {
   "cell_type": "markdown",
   "id": "creative-paper",
   "metadata": {},
   "source": [
    "### Sample output\n",
    "\n",
    "The plots are not preserved when saving the notebook. They look like this:\n",
    "\n",
    "![sample plot](ssb-live.png)"
   ]
  },
  {
   "cell_type": "markdown",
   "id": "regulation-liberal",
   "metadata": {},
   "source": [
    "### Run SSB and centre of mass on live data\n",
    "\n",
    "This updates the plots above."
   ]
  },
  {
   "cell_type": "code",
   "execution_count": 23,
   "id": "australian-penguin",
   "metadata": {},
   "outputs": [
    {
     "name": "stdout",
     "output_type": "stream",
     "text": [
      "Connecting Merlin control...\n",
      "Setting Merlin acquisition parameters\n",
      "Finished Merlin setup.\n",
      "Setting resolution...\n",
      "Arming Merlin...\n",
      "Merlin ready for trigger.\n"
     ]
    },
    {
     "name": "stderr",
     "output_type": "stream",
     "text": [
      "INFO:libertem_live.detectors.merlin.acquisition:drained 21504 bytes of garbage\n"
     ]
    },
    {
     "name": "stdout",
     "output_type": "stream",
     "text": [
      "Triggering!\n"
     ]
    },
    {
     "name": "stderr",
     "output_type": "stream",
     "text": [
      "INFO:libertem_live.detectors.merlin.data:got headers; frame offset = 0\n"
     ]
    },
    {
     "name": "stdout",
     "output_type": "stream",
     "text": [
      "do_scan()\n",
      "Waiting for blocking scan function...\n",
      "result = None\n",
      "Finished.\n"
     ]
    }
   ],
   "source": [
    "c = MerlinControl(*MERLIN_CONTROL_SOCKET)\n",
    "\n",
    "print(\"Connecting Merlin control...\")\n",
    "with c:\n",
    "    merlin_setup(c)\n",
    "    microscope_setup()\n",
    "\n",
    "    set_nav(c, aq)\n",
    "    arm(c)\n",
    "try:\n",
    "    ctx.run_udf(dataset=aq, udf=[ssb_udf, com_udf], plots=plots)\n",
    "finally:\n",
    "    try:\n",
    "        if acquisition_state.trigger_result is not None:\n",
    "            print(\"Waiting for blocking scan function...\")\n",
    "            print(f\"result = {acquisition_state.trigger_result.result()}\")\n",
    "    finally:\n",
    "        pass #microscope.stop_scanning()\n",
    "print(\"Finished.\")"
   ]
  },
  {
   "cell_type": "code",
   "execution_count": null,
   "id": "lightweight-suggestion",
   "metadata": {},
   "outputs": [],
   "source": []
  }
 ],
 "metadata": {
  "kernelspec": {
   "display_name": "Python 3",
   "language": "python",
   "name": "python3"
  },
  "language_info": {
   "codemirror_mode": {
    "name": "ipython",
    "version": 3
   },
   "file_extension": ".py",
   "mimetype": "text/x-python",
   "name": "python",
   "nbconvert_exporter": "python",
   "pygments_lexer": "ipython3",
   "version": "3.7.10"
  }
 },
 "nbformat": 4,
 "nbformat_minor": 5
}
