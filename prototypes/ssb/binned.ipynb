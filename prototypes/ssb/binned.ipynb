{
 "cells": [
  {
   "cell_type": "code",
   "execution_count": null,
   "metadata": {},
   "outputs": [],
   "source": [
    "%load_ext line_profiler"
   ]
  },
  {
   "cell_type": "markdown",
   "metadata": {},
   "source": [
    "# Single Side Band ptychography example\n",
    "\n",
    "This example uses an implementation of the single side band method\n",
    "https://doi.org/10.1016/j.ultramic.2014.09.013 to reconstruct an amplitude and phase\n",
    "image from a simulated 4D scanning transmission electron microscopy dataset with an additional synthetic\n",
    "potential modulation.\n",
    "\n",
    "The dataset can be downloaded at https://zenodo.org/record/5113235."
   ]
  },
  {
   "cell_type": "code",
   "execution_count": null,
   "metadata": {},
   "outputs": [],
   "source": [
    "import os\n",
    "import functools\n",
    "\n",
    "import matplotlib.pyplot as plt\n",
    "import libertem.api as lt\n",
    "import numpy as np\n",
    "from matplotlib import colors\n",
    "import sparse\n",
    "\n",
    "# note: visulization requires empyre\n",
    "# install empyre: pip install empyre\n",
    "from empyre.vis.colors import ColormapCubehelix\n",
    "\n",
    "from libertem import masks\n",
    "from libertem.udf.base import UDF\n",
    "from libertem.udf.sum import SumUDF\n",
    "from libertem.executor.inline import InlineJobExecutor\n",
    "from libertem.common.container import MaskContainer\n",
    "from libertem.common.backend import set_use_cuda, set_use_cpu, get_device_class\n",
    "from libertem.corrections.coordinates import identity\n",
    "from libertem.viz.bqp import BQLive2DPlot\n",
    "from libertem.viz.mpl import MPLLive2DPlot\n",
    "from libertem.corrections.coordinates import flip_y, rotate_deg, identity"
   ]
  },
  {
   "cell_type": "code",
   "execution_count": null,
   "metadata": {},
   "outputs": [],
   "source": [
    "from ptychography40.reconstruction.ssb.udf import SSB_UDF, SSB_Base, generate_masks, rmatmul_csc_fourier\n",
    "from ptychography40.reconstruction.common import wavelength, get_shifted"
   ]
  },
  {
   "cell_type": "code",
   "execution_count": null,
   "metadata": {},
   "outputs": [],
   "source": [
    "%matplotlib nbagg"
   ]
  },
  {
   "cell_type": "markdown",
   "metadata": {},
   "source": [
    "## Create the LiberTEM context\n",
    "\n",
    "An inline executor executes LiberTEM UDFs in the process where this script is running instead of running it on worker processes. This is currently more efficient for this SSB implementation since it allows to re-use precalculated data better. For most other applications, running on distributed workers is faster. See also https://github.com/LiberTEM/LiberTEM/issues/335"
   ]
  },
  {
   "cell_type": "code",
   "execution_count": null,
   "metadata": {},
   "outputs": [],
   "source": [
    "ctx = lt.Context()"
   ]
  },
  {
   "cell_type": "markdown",
   "metadata": {},
   "source": [
    "## Open the input data\n",
    "\n",
    "This creates a LiberTEM dataset. The data is not loaded yet, but only when analyses are run on it."
   ]
  },
  {
   "cell_type": "code",
   "execution_count": null,
   "metadata": {},
   "outputs": [],
   "source": [
    "file_params = {'path': r'E:\\LargeData\\LargeData\\ER-C-1\\groups\\data_science\\data\\reference\\MIB\\20200518 165148\\default.hdr'}\n",
    "ds = ctx.load(\"MIB\", **file_params)\n"
   ]
  },
  {
   "cell_type": "markdown",
   "metadata": {},
   "source": [
    "## Reconstruction parameters\n",
    "\n",
    "These have to be adapted for each dataset."
   ]
  },
  {
   "cell_type": "code",
   "execution_count": null,
   "metadata": {},
   "outputs": [],
   "source": [
    "\n",
    "# Acceleration voltage in keV\n",
    "U = 300\n",
    "rec_params = {\n",
    "    \"dtype\": np.float32,\n",
    "    \"lamb\": wavelength(U),\n",
    "    \"dpix\": 12.7e-12,\n",
    "    \"semiconv\": 22.1346e-3,  # 2020-05-18\n",
    "    \"semiconv_pix\": 31,  # 2020-05-18\n",
    "    # applied right to left\n",
    "    \"transformation\": rotate_deg(88) @ flip_y(),\n",
    "    \"cx\": 123,\n",
    "    \"cy\": 126,\n",
    "    \"cutoff\": 16,  # number of pixels: trotters smaller than this will be removed\n",
    "}\n",
    "cutoff_freq = np.inf\n",
    "\n",
    "mask_params = {\n",
    "    # Shape of the reconstructed area\n",
    "    'reconstruct_shape': tuple(ds.shape.nav),\n",
    "    # Shape of a detector frame\n",
    "    'mask_shape': tuple(ds.shape.sig),\n",
    "    # Use the faster shifting method to generate trotters\n",
    "    'method': 'shift',\n",
    "}"
   ]
  },
  {
   "cell_type": "markdown",
   "metadata": {},
   "source": [
    "## Initial analysis of the dataset\n",
    "\n",
    "We sum up all frames and confirm that size and position of the zero order beam match."
   ]
  },
  {
   "cell_type": "code",
   "execution_count": null,
   "metadata": {
    "scrolled": false
   },
   "outputs": [],
   "source": [
    "sum_udf = SumUDF()\n",
    "\n",
    "live_plot = MPLLive2DPlot(\n",
    "    dataset=ds,\n",
    "    udf=sum_udf,\n",
    ")\n",
    "live_plot.display()\n",
    "circ_a = plt.Circle((rec_params[\"cx\"], rec_params[\"cy\"]), rec_params[\"semiconv_pix\"], fill=False, color='red')\n",
    "live_plot.axes.add_artist(circ_a)\n",
    "live_plot.fig.colorbar(live_plot.im_obj)\n",
    "\n",
    "sum_result = ctx.run_udf(dataset=ds, udf=sum_udf, plots=[live_plot], progress=True)"
   ]
  },
  {
   "cell_type": "markdown",
   "metadata": {},
   "source": [
    "## Center of mass analysis\n",
    "\n",
    "This is used to confirm that the coordinate system between scan and detector is properly adjusted. The beam should be deflected towards the nuclei for high resolution STEM data. That means that the field should have little curl and negative divergence at the position of the nuclei. Furthermore, x and y deflection should point towards the nuclei. See also https://libertem.github.io/LiberTEM/concepts.html#coordinate-system"
   ]
  },
  {
   "cell_type": "code",
   "execution_count": null,
   "metadata": {},
   "outputs": [],
   "source": [
    "com_analysis = ctx.create_com_analysis(\n",
    "    dataset=ds,\n",
    "    cx=rec_params[\"cx\"],\n",
    "    cy=rec_params[\"cy\"],\n",
    "    mask_radius=rec_params[\"semiconv_pix\"] + 30,\n",
    "    flip_y=True,\n",
    "    scan_rotation=88,\n",
    ")\n",
    "com_result = ctx.run(com_analysis, progress=True)\n",
    "print(com_result)"
   ]
  },
  {
   "cell_type": "code",
   "execution_count": null,
   "metadata": {
    "scrolled": false
   },
   "outputs": [],
   "source": [
    "fig, axes = plt.subplots()\n",
    "axes.set_title(\"field\")\n",
    "y_centers, x_centers = com_result.field.raw_data\n",
    "ch = ColormapCubehelix(start=1, rot=1, minLight=0.5, maxLight=0.5, sat=2)\n",
    "axes.imshow(ch.rgb_from_vector(np.broadcast_arrays(y_centers, x_centers, 0)))\n",
    "\n",
    "fig, axes = plt.subplots()\n",
    "axes.set_title(\"magnitude\")\n",
    "p = axes.imshow(com_result.magnitude.raw_data)\n",
    "fig.colorbar(p)\n",
    "\n",
    "fig, axes = plt.subplots()\n",
    "axes.set_title(\"divergence\")\n",
    "p = axes.imshow(com_result.divergence.raw_data)\n",
    "fig.colorbar(p)\n",
    "\n",
    "fig, axes = plt.subplots()\n",
    "axes.set_title(\"curl\")\n",
    "p = axes.imshow(com_result.curl.raw_data)\n",
    "fig.colorbar(p)\n",
    "\n",
    "fig, axes = plt.subplots()\n",
    "axes.set_title(\"x\")\n",
    "p = axes.imshow(com_result.x.raw_data)\n",
    "fig.colorbar(p)\n",
    "\n",
    "fig, axes = plt.subplots()\n",
    "axes.set_title(\"y\")\n",
    "p = axes.imshow(com_result.y.raw_data)\n",
    "fig.colorbar(p)"
   ]
  },
  {
   "cell_type": "markdown",
   "metadata": {},
   "source": [
    "## Pre-calculate the trotter stack\n",
    "\n",
    "This takes some time and can be re-used for given reconstruction parameters. The stack is in a sparse matrix format."
   ]
  },
  {
   "cell_type": "code",
   "execution_count": null,
   "metadata": {},
   "outputs": [],
   "source": [
    "%%time\n",
    "trotters = generate_masks(**rec_params, **mask_params)"
   ]
  },
  {
   "cell_type": "code",
   "execution_count": null,
   "metadata": {},
   "outputs": [],
   "source": [
    "fig, axes = plt.subplots()\n",
    "axes.imshow(trotters[1].todense())"
   ]
  },
  {
   "cell_type": "markdown",
   "metadata": {},
   "source": [
    "Uncomment to use GPU processing on device 0 with the inline executor"
   ]
  },
  {
   "cell_type": "code",
   "execution_count": null,
   "metadata": {},
   "outputs": [],
   "source": [
    "# set_use_cuda(0)"
   ]
  },
  {
   "cell_type": "markdown",
   "metadata": {},
   "source": [
    "We create a LiberTEM `MaskContainer` from the mask stack. The `MaskContainer` is used to calculate and cache subsets of the mask stack with optimized properties for a fast dot product and tiled processing."
   ]
  },
  {
   "cell_type": "code",
   "execution_count": null,
   "metadata": {},
   "outputs": [],
   "source": [
    "mask_container = MaskContainer(\n",
    "    mask_factories=lambda: trotters, dtype=trotters.dtype, count=trotters.shape[0]\n",
    ")"
   ]
  },
  {
   "cell_type": "markdown",
   "metadata": {},
   "source": [
    "## Instantiate and run the SSB UDF\n",
    "The mask_container is passed to the UDF to allow re-use. This is a work-around for https://github.com/LiberTEM/LiberTEM/issues/335"
   ]
  },
  {
   "cell_type": "code",
   "execution_count": null,
   "metadata": {},
   "outputs": [],
   "source": [
    "udf = SSB_UDF(**rec_params, mask_container=mask_container)"
   ]
  },
  {
   "cell_type": "markdown",
   "metadata": {},
   "source": [
    "We create dedicated plots so that we can add a colorbar and only plot amplitude and phase. These plots will be updated with calculation results when running the UDF in the cell after."
   ]
  },
  {
   "cell_type": "code",
   "execution_count": null,
   "metadata": {},
   "outputs": [],
   "source": [
    "ssb_plots = []\n",
    "for channel in 'amplitude', 'phase':\n",
    "    p = BQLive2DPlot(\n",
    "        dataset=ds,\n",
    "        udf=udf,\n",
    "        channel=channel,\n",
    "    )\n",
    "    p.display()\n",
    "    ssb_plots.append(p)"
   ]
  },
  {
   "cell_type": "code",
   "execution_count": null,
   "metadata": {
    "scrolled": false
   },
   "outputs": [],
   "source": [
    "# We use the inline executor since the sparse matrix stack is quite large.\n",
    "# Instead of process-based parallelism, we use multithreading in the UDF.\n",
    "# This allows to re-use the masks and the cache of MaskContainer between partitions.\n",
    "udf_result = ctx.run_udf(udf=udf, dataset=ds, plots=ssb_plots, progress=True)"
   ]
  },
  {
   "cell_type": "code",
   "execution_count": null,
   "metadata": {},
   "outputs": [],
   "source": [
    "print(rec_params, mask_params)"
   ]
  },
  {
   "cell_type": "code",
   "execution_count": null,
   "metadata": {},
   "outputs": [],
   "source": [
    "def crop_bin_params(rec_params, mask_params, binning_factor: int):    \n",
    "    center = int(np.ceil(rec_params[\"semiconv_pix\"] / binning_factor))\n",
    "    size = 2 * center\n",
    "    \n",
    "    def crop_bin_vector(length, origin):\n",
    "        bins = np.zeros((length, size), dtype=np.float32)\n",
    "        for i in range(size):\n",
    "            start = origin + i*binning_factor\n",
    "            stop = start + binning_factor\n",
    "            bins[start:stop, i] = 1\n",
    "        return bins\n",
    "    \n",
    "    \n",
    "    new_rec_params = rec_params.copy()\n",
    "    new_rec_params['cy'] = center\n",
    "    new_rec_params['cx'] = center\n",
    "    new_rec_params['semiconv_pix'] = rec_params['semiconv_pix'] / binning_factor\n",
    "    new_rec_params['cutoff'] = int(np.ceil(rec_params['cutoff'] / binning_factor**2))\n",
    "    new_mask_params = mask_params.copy()\n",
    "    new_mask_params['mask_shape'] = (size, size)\n",
    "    new_mask_params['method'] = 'subpix'\n",
    "    \n",
    "    y_binner = crop_bin_vector(\n",
    "        length=mask_params['mask_shape'][0],\n",
    "        origin=int(rec_params['cy']) - binning_factor * center,\n",
    "    ).T\n",
    "    \n",
    "    x_binner = crop_bin_vector(\n",
    "        length=mask_params['mask_shape'][1],\n",
    "        origin=int(rec_params['cx']) - binning_factor * center,\n",
    "    )\n",
    "    \n",
    "    return(new_rec_params, new_mask_params, y_binner, x_binner)"
   ]
  },
  {
   "cell_type": "code",
   "execution_count": null,
   "metadata": {},
   "outputs": [],
   "source": [
    "test_rec_params = rec_params.copy()\n",
    "test_mask_params = mask_params.copy()\n",
    "binning_factor = 5\n",
    "# test_rec_params['cy'] = 40\n",
    "# test_rec_params['cx'] = 200"
   ]
  },
  {
   "cell_type": "code",
   "execution_count": null,
   "metadata": {},
   "outputs": [],
   "source": [
    "binned_rec_params, binned_mask_params, y_binner, x_binner = crop_bin_params(test_rec_params, test_mask_params, binning_factor)"
   ]
  },
  {
   "cell_type": "code",
   "execution_count": null,
   "metadata": {},
   "outputs": [],
   "source": [
    "data = np.zeros((128*128, 256, 256), dtype=np.float32)"
   ]
  },
  {
   "cell_type": "code",
   "execution_count": null,
   "metadata": {},
   "outputs": [],
   "source": [
    "import threadpoolctl"
   ]
  },
  {
   "cell_type": "code",
   "execution_count": null,
   "metadata": {},
   "outputs": [],
   "source": [
    "with threadpoolctl.threadpool_limits(1):\n",
    "    %timeit y_binner @ data @ x_binner"
   ]
  },
  {
   "cell_type": "code",
   "execution_count": null,
   "metadata": {},
   "outputs": [],
   "source": [
    "%%timeit\n",
    "data.reshape((128*128, 64, 4, 64, 4)).sum(axis=(-1, -3))"
   ]
  },
  {
   "cell_type": "code",
   "execution_count": null,
   "metadata": {},
   "outputs": [],
   "source": [
    "%%time\n",
    "binned_masks = generate_masks(**binned_rec_params, **binned_mask_params)"
   ]
  },
  {
   "cell_type": "code",
   "execution_count": null,
   "metadata": {},
   "outputs": [],
   "source": [
    "import scipy.misc\n",
    "testdata = np.swapaxes(scipy.misc.face()[190:190+256, 500:500+256], 0, 2)"
   ]
  },
  {
   "cell_type": "code",
   "execution_count": null,
   "metadata": {},
   "outputs": [],
   "source": [
    "size = y_binner.shape[0]\n",
    "orig_size = int(size * binning_factor)\n",
    "origin = (int(rec_params['cy'] - orig_size / 2), int(rec_params['cx'] - orig_size / 2))"
   ]
  },
  {
   "cell_type": "code",
   "execution_count": null,
   "metadata": {},
   "outputs": [],
   "source": [
    "crop = testdata[..., origin[0]:origin[0]+orig_size, origin[1]:origin[1]+orig_size]\n",
    "folded = crop.reshape((-1, size, binning_factor, size, binning_factor))\n",
    "binned = folded.sum(axis=(-1, -3))"
   ]
  },
  {
   "cell_type": "code",
   "execution_count": null,
   "metadata": {},
   "outputs": [],
   "source": [
    "matrix_res = y_binner @ testdata @ x_binner"
   ]
  },
  {
   "cell_type": "code",
   "execution_count": null,
   "metadata": {},
   "outputs": [],
   "source": [
    "fig, axes = plt.subplots(1, 3)\n",
    "axes[0].imshow(np.swapaxes(testdata, 0, 2))\n",
    "axes[1].imshow(np.swapaxes(binned, 0, 2) / np.max(binned))\n",
    "axes[2].imshow(np.swapaxes(matrix_res, 0, 2) / np.max(matrix_res))"
   ]
  },
  {
   "cell_type": "code",
   "execution_count": null,
   "metadata": {},
   "outputs": [],
   "source": [
    "inline_ctx = lt.Context.make_with('inline')"
   ]
  },
  {
   "cell_type": "code",
   "execution_count": null,
   "metadata": {},
   "outputs": [],
   "source": [
    "y_binner.shape, x_binner.shape"
   ]
  },
  {
   "cell_type": "code",
   "execution_count": null,
   "metadata": {},
   "outputs": [],
   "source": [
    "def get_binner(constructor, y_binner, x_binner):\n",
    "    \n",
    "    @functools.lru_cache()\n",
    "    def get(sig_slice):\n",
    "        y_origin, x_origin = sig_slice.origin\n",
    "        y_shape, x_shape = sig_slice.shape\n",
    "        y_res = y_binner[:, y_origin:y_origin+y_shape]\n",
    "        x_res = x_binner[x_origin:x_origin+x_shape]\n",
    "        return (\n",
    "            constructor(y_res),\n",
    "            constructor(x_res),\n",
    "            np.allclose(y_res, 0) or np.allclose(x_res, 0)\n",
    "        )\n",
    "    \n",
    "    return get\n",
    "\n",
    "class BinnedSSB_UDF(SSB_Base):\n",
    "    def __init__(self, y_binner, x_binner, csr_trotters: scipy.sparse.csc_matrix, dtype=np.float32):\n",
    "        # make sure the cropped and binned region has a size divisible by two\n",
    "        binned_size = np.sqrt(csr_trotters.shape[1])\n",
    "        assert np.allclose(binned_size % 2, 0)\n",
    "        super().__init__(y_binner=y_binner, x_binner=x_binner, csr_trotters=csr_trotters, dtype=dtype)\n",
    "    \n",
    "    def get_task_data(self):\n",
    "        result = super().get_task_data()\n",
    "        result['binner'] = get_binner(self.xp.array, self.params.y_binner, self.params.x_binner)\n",
    "        if self.meta.device_class == 'cpu':\n",
    "            result['trotters'] = self.params.csr_trotters\n",
    "        elif self.meta.device_class == 'cuda':\n",
    "            import cupy.sparse\n",
    "            result['trotters'] = cupy.sparse.csr_matrix(self.params.csr_trotters)\n",
    "        return result\n",
    "    \n",
    "    def process_tile(self, tile):\n",
    "        target_slice = self.meta.slice.shift(self.meta._partition_slice).get(nav_only=True)\n",
    "        y_binner, x_binner, noop = self.task_data.binner(self.meta.sig_slice)\n",
    "        if not noop:\n",
    "            binned = y_binner @ tile @ x_binner\n",
    "            binned_flat = binned.reshape((binned.shape[0], binned.shape[1]*binned.shape[2]))\n",
    "            masks = self.task_data.trotters\n",
    "            half_y = self.results.fourier.shape[0] // 2 + 1\n",
    "            dot_result = masks.dot(binned_flat.T).T\n",
    "            self.merge_dot_result(dot_result)\n",
    "    \n",
    "    def get_backends(self):\n",
    "        ''\n",
    "        return ('cupy', 'numpy')\n",
    "    \n",
    "    def get_tiling_preferences(self):\n",
    "        ''\n",
    "        dtype = np.result_type(np.complex64, self.params.dtype)\n",
    "        result_size = np.prod(self.reconstruct_shape) * dtype.itemsize\n",
    "        if self.meta.device_class == 'cuda':\n",
    "            free, total = self.xp.cuda.runtime.memGetInfo()\n",
    "            total_size = min(100e6, free // 4)\n",
    "            good_depth = max(1, total_size / result_size * 4)\n",
    "            return {\n",
    "                \"depth\": good_depth,\n",
    "                \"total_size\": total_size,\n",
    "            }\n",
    "        else:\n",
    "            # We limit the depth of a tile so that the intermediate\n",
    "            # results from processing a tile fit into the CPU cache.\n",
    "            good_depth = max(1, 1e6 / result_size)\n",
    "            return {\n",
    "                \"depth\": int(good_depth),\n",
    "                \"total_size\": 2e6,\n",
    "            }\n"
   ]
  },
  {
   "cell_type": "code",
   "execution_count": null,
   "metadata": {},
   "outputs": [],
   "source": [
    "binned_mask_flat = binned_masks.reshape((\n",
    "    binned_masks.shape[0], np.prod(binned_masks.shape[1:], dtype=np.int64)\n",
    "))\n",
    "csr_trotters = binned_mask_flat.tocsr()\n",
    "binned_udf = BinnedSSB_UDF(\n",
    "    y_binner=y_binner,\n",
    "    x_binner=x_binner,\n",
    "    csr_trotters=csr_trotters,\n",
    ")\n",
    "\n"
   ]
  },
  {
   "cell_type": "code",
   "execution_count": null,
   "metadata": {},
   "outputs": [],
   "source": [
    "inline_ctx.run_udf(dataset=ds, udf=binned_udf, progress=True)"
   ]
  },
  {
   "cell_type": "code",
   "execution_count": null,
   "metadata": {},
   "outputs": [],
   "source": [
    "%%timeit\n",
    "bin_res = ctx.run_udf(dataset=ds, udf=binned_udf, progress=True)"
   ]
  },
  {
   "cell_type": "code",
   "execution_count": null,
   "metadata": {},
   "outputs": [],
   "source": [
    "with threadpoolctl.threadpool_limits(1):\n",
    "    %lprun -f binned_udf.process_tile -f binned_udf.merge_dot_result inline_ctx.run_udf(dataset=ds, udf=binned_udf, progress=True)"
   ]
  },
  {
   "cell_type": "code",
   "execution_count": null,
   "metadata": {},
   "outputs": [],
   "source": [
    "fig, axes = plt.subplots(1, 2)\n",
    "axes[0].imshow(bin_res['phase'])\n",
    "axes[1].imshow(bin_res['amplitude'])"
   ]
  },
  {
   "cell_type": "code",
   "execution_count": null,
   "metadata": {},
   "outputs": [],
   "source": []
  }
 ],
 "metadata": {
  "@webio": {
   "lastCommId": null,
   "lastKernelId": null
  },
  "kernelspec": {
   "display_name": "Python 3",
   "language": "python",
   "name": "python3"
  },
  "language_info": {
   "codemirror_mode": {
    "name": "ipython",
    "version": 3
   },
   "file_extension": ".py",
   "mimetype": "text/x-python",
   "name": "python",
   "nbconvert_exporter": "python",
   "pygments_lexer": "ipython3",
   "version": "3.7.10"
  }
 },
 "nbformat": 4,
 "nbformat_minor": 4
}
